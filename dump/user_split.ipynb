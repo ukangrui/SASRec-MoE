{
 "cells": [
  {
   "cell_type": "code",
   "execution_count": 2,
   "metadata": {},
   "outputs": [],
   "source": [
    "import pandas as pd\n",
    "import json\n",
    "import numpy as np\n",
    "def load_dataset(data_dir= '/Users/kangrui/Desktop/vast/moelora/sasrec_pytorch/data/ml-1m.txt'):\n",
    "    users = []\n",
    "    items = []\n",
    "    f = open(data_dir, 'r')\n",
    "    for line in f:\n",
    "        u, i = line.rstrip().split(' ')\n",
    "        users.append(u)\n",
    "        items.append(i)\n",
    "    users = pd.Series(users)\n",
    "    items = pd.Series(items)\n",
    "    df = pd.DataFrame({'user': users, 'item': items})\n",
    "    return df\n",
    "\n",
    "def split_by_popularity(df: pd.DataFrame, mode='popularity'):\n",
    "    ### ratio of top items (20%) in profies\n",
    "    ### blockbuster - diverse - niche\n",
    "    ### 54  - 26 - 20\n",
    "    num_users  = len(df['user'].unique())\n",
    "    num_items  = len(df['item'].unique())\n",
    "    popular_items = df['item'].value_counts(ascending=False).index.to_list()[:num_items//5] ## top 20%\n",
    "    def filter_helper(batch):\n",
    "        all = len(batch)\n",
    "        popular = len(batch[batch['item'].isin(popular_items)])\n",
    "        return popular / all\n",
    "    if mode == 'popularity':\n",
    "        user_sorted = df.groupby('user').apply(filter_helper).sort_values(ascending = False).index.tolist()\n",
    "    else:\n",
    "        user_sorted = df.groupby('user')['item'].agg('count').sort_values(ascending=False).index.tolist()\n",
    "    cuts  = (np.arange(1,100) * 6040 * 0.01).astype(int)\n",
    "    user_groups = list()\n",
    "    user_groups.append(user_sorted[:cuts[0]])\n",
    "    for index, cut in enumerate(cuts):\n",
    "        if index == 98:\n",
    "            user_groups.append(user_sorted[cut:])\n",
    "        else:\n",
    "            user_groups.append(user_sorted[cut:cuts[index+1]])\n",
    "    return user_groups\n",
    "\n"
   ]
  },
  {
   "cell_type": "code",
   "execution_count": 4,
   "metadata": {},
   "outputs": [
    {
     "data": {
      "text/plain": [
       "['392', '5895', '147', '3428', '2938']"
      ]
     },
     "execution_count": 4,
     "metadata": {},
     "output_type": "execute_result"
    }
   ],
   "source": [
    "df = load_dataset()\n",
    "user_sorted = df.groupby('user')['item'].agg('count').sort_values(ascending=False).index.tolist()\n",
    "user_sorted[-5:]\n",
    "# user_groups = split_by_popularity(df, mode='temprature')"
   ]
  },
  {
   "cell_type": "code",
   "execution_count": 10,
   "metadata": {},
   "outputs": [
    {
     "name": "stdout",
     "output_type": "stream",
     "text": [
      "JSON file 'user_types.json' has been created successfully.\n"
     ]
    }
   ],
   "source": [
    "user_types = {}\n",
    "for index, user_group in enumerate(user_groups):\n",
    "    for user in user_group:\n",
    "        user_types[user] = \"split_\" + str(index+1)\n",
    "\n",
    "\n",
    "json_data = json.dumps(user_types)\n",
    "# Write to a JSON file\n",
    "with open('user_types_temprature.json', 'w') as json_file:\n",
    "    json_file.write(json_data)\n",
    "\n",
    "print(\"JSON file 'user_types.json' has been created successfully.\")"
   ]
  }
 ],
 "metadata": {
  "kernelspec": {
   "display_name": "base",
   "language": "python",
   "name": "python3"
  },
  "language_info": {
   "codemirror_mode": {
    "name": "ipython",
    "version": 3
   },
   "file_extension": ".py",
   "mimetype": "text/x-python",
   "name": "python",
   "nbconvert_exporter": "python",
   "pygments_lexer": "ipython3",
   "version": "3.12.2"
  }
 },
 "nbformat": 4,
 "nbformat_minor": 2
}
